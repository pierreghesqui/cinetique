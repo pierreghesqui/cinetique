{
 "cells": [
  {
   "cell_type": "markdown",
   "id": "21c28b6e",
   "metadata": {},
   "source": [
    "# Étape 1 : Importation des mesures\n",
    "- Cliquez sur \"Fichier\">\"Ouvrir\" et sélectionner votre fichier \"mesures.csv\"\n",
    "- Éxécuter le code python ci-dessous (pour cela, cliquer n'importe où dans le code puis cliquer sur \"Exécuter\")"
   ]
  },
  {
   "cell_type": "code",
   "execution_count": null,
   "id": "511ba0ae",
   "metadata": {
    "scrolled": true
   },
   "outputs": [],
   "source": [
    "# Ce code python va importer les mesures que tu as écrites dans le fichier \"mesures.csv\"\n",
    "import numpy as np\n",
    "import matplotlib.pyplot as plt\n",
    "from donnees_csv_extractor import Donnees_CSV_Toutes_Colonnes # Importe la fonction pour lire tes données CSV\n",
    "\n",
    "data = Donnees_CSV_Toutes_Colonnes(\"mesures.csv\")\n",
    "\n",
    "t = data[0]          # Ta colonne de temps (Colonne n°0)\n",
    "Absorbance = data[1] # Ta colonne d'Absorbance (Colonne n°1)"
   ]
  },
  {
   "cell_type": "markdown",
   "id": "a9a80d68",
   "metadata": {},
   "source": [
    "# Étape 2 : Tracé du graphique de [E] en fonction de t\n",
    "Dans le code ci-dessous : \n",
    "- Astuce : Pour faire apparaître les numéros des lignes du code, clique sur \"Entrée []\" (à gauche du code) puis appuie sur la touche \"L\" du clavier. \n",
    "- Complète la valeur de la constante alpha de la loi de beer lambert (ligne 2).\n",
    "- Vérifie que le code calcule correctement les concentrations C d'érythrosine (ligne 3). \n",
    "- Exécute le code une première fois \n",
    "On se propose de modéliser la courbe de la concentration $C$ par la fonction : \n",
    "<div style=\"text-align:center\">\n",
    "$C(t)=A_{modèle}\\times exp(-k_{modèle}\\times t)$ \n",
    "</div>\n",
    "<div style=\"text-align:center\">\n",
    "où $A_{modèle}$ et $k_{modèle}$ sont des constantes</div>\n",
    "\n",
    "- Après analyse des graphiques, ajuste les valeurs de A_modele et de k_modele (lignes 6 et 7) pour que le modèle théorique ajuste le mieux possible les valeurs expérimentales.\n",
    "- Réexécute le code et vérifie sur la courbe que le modèle théorique ajuste le mieux possible les valeurs expérimentales (si ce n'est pas le cas, réajuste les valeurs de A_modele et de k_modele)"
   ]
  },
  {
   "cell_type": "code",
   "execution_count": null,
   "id": "f3796562",
   "metadata": {},
   "outputs": [],
   "source": [
    "# Mets ici la valeur de ton facteur alpha pour la loi de Beer-Lambert (A = alpha * C).\n",
    "alpha = ... # A compléter\n",
    "C = Absorbance / alpha #Concentrations d'érythrosine calculées à l'aide de la loi de beer lambert\n",
    "\n",
    "# Propose des valeurs pour ton modèle théorique : C = A_modele * exp(-k_modele * t)\n",
    "A_modele =  5e-6     #valeur à ajuster (unité : mol/L)\n",
    "k_modele =  1/20     #valeur à ajuster (unité : s^-1)\n",
    "\n",
    "# Une fois que tu as complété les lignes ci-dessus, tu peux exécuter ton code.\n",
    "\n",
    "# =============================================================================\n",
    "# NE MODIFIEZ RIEN SOUS CETTE LIGNE !\n",
    "# =============================================================================\n",
    "\n",
    "# --- Trace tes points de concentration ---\n",
    "# Configure le graphique\n",
    "plt.figure(figsize=(10, 6))\n",
    "\n",
    "# Ajoute tes points expérimentaux (temps vs concentration)\n",
    "C_mumol = C*10**6 #Conversion en micromol/L\n",
    "plt.plot(t, C_mumol, 'o', label='Valeurs expérimentales (μmol/L)')\n",
    "\n",
    "# Ajoute les titres aux axes et au graphique\n",
    "plt.xlabel(\"Temps (s)\", fontsize=15)\n",
    "plt.ylabel(\"Concentration d'Érythrosine (μmol/L)\", fontsize=15)\n",
    "plt.title(\"Évolution de la Concentration d'Érythrosine au cours du temps\", fontsize=15)\n",
    "plt.grid(True)      # Affiche une grille\n",
    "plt.legend()        # Affiche la légende\n",
    "\n",
    "# ---Trace ton modèle théorique ---\n",
    "# Crée des points de temps pour une courbe de modèle lisse\n",
    "# Assure-toi que t.min() et t.max() sont bien définis (pas de NaN ou de tableau vide)\n",
    "if t.size > 0 and not np.isnan(t).all(): # Vérifie si t contient des éléments et n'est pas rempli de NaN\n",
    "    t_model_start = np.nanmin(t)\n",
    "    t_model_end = np.nanmax(t)\n",
    "else:\n",
    "    # Fallback si t est vide ou seulement des NaN, utilise une plage par défaut\n",
    "    t_model_start = 0.0\n",
    "    t_model_end = 10.0\n",
    "    print(\"Avertissement: Les données de temps sont vides ou invalides. Le modèle sera tracé sur une plage par défaut (0-10 s).\")\n",
    "\n",
    "\n",
    "t_modele = np.linspace(0, t_model_end, 500)\n",
    "\n",
    "# Calcule la concentration selon ton modèle avec A_modele et k_modele\n",
    "C_modele = A_modele * np.exp(-k_modele * t_modele) \n",
    "\n",
    "# Ajoute la courbe du modèle sur le graphique (rouge, pointillés)\n",
    "C_modele_mumol = C_modele*10**6 #Conversion en micromol/L\n",
    "plt.plot(t_modele, C_modele_mumol, 'r--', label='Modèle théorique ordre 1 (μmol/L)')\n",
    "plt.ylim(0,1.4* np.nanmax(C_mumol))\n",
    "# Mets à jour la légende pour inclure le modèle\n",
    "plt.legend()\n",
    "\n",
    "# Affiche le graphique final et attends que tu le fermes\n",
    "print(\"\\nAnalyse terminée ! Regarde le graphique.\")\n",
    "# Remplacement des f-strings par str.format()\n",
    "print(\"Alpha utilisé : {}\".format(alpha))\n",
    "print(\"Modèle théorique tracé avec A = {} mol/L et k = {} s^-1\".format(A_modele, k_modele))\n",
    "plt.show()"
   ]
  }
 ],
 "metadata": {
  "kernelspec": {
   "display_name": "Python 3 (ipykernel)",
   "language": "python",
   "name": "python3"
  },
  "language_info": {
   "codemirror_mode": {
    "name": "ipython",
    "version": 3
   },
   "file_extension": ".py",
   "mimetype": "text/x-python",
   "name": "python",
   "nbconvert_exporter": "python",
   "pygments_lexer": "ipython3",
   "version": "3.9.12"
  }
 },
 "nbformat": 4,
 "nbformat_minor": 5
}
